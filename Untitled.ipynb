{
 "cells": [
  {
   "cell_type": "code",
   "execution_count": null,
   "id": "5892db08",
   "metadata": {},
   "outputs": [],
   "source": [
    "#Read presentation\n",
    "#Identify font\n",
    "#colors used in presentation\n",
    "#logo used in presentation"
   ]
  },
  {
   "cell_type": "code",
   "execution_count": 187,
   "id": "247900ec",
   "metadata": {},
   "outputs": [],
   "source": [
    "#Load required libraries\n",
    "\n",
    "import pptx \n",
    "from pptx.dml.color import RGBColor\n",
    "from pptx.enum.dml import MSO_THEME_COLOR\n",
    "from pptx.util import Pt\n",
    "import numpy as np\n",
    "from pptx.dml.color import RGBColor\n",
    "from pptx.enum.dml import MSO_THEME_COLOR\n",
    "from pptx.util import Pt\n"
   ]
  },
  {
   "cell_type": "markdown",
   "id": "f1da685f",
   "metadata": {},
   "source": [
    "Objects Nomenclature:\n",
    "- Presentation: The overall PowerPoint file.\n",
    "- Slide: A single slide within the presentation.\n",
    "- Shape: An object on a slide, which can be a text box, image, shape, etc.\n",
    "- TextFrame: The container for text within a shape.\n",
    "- Paragraph: A block of text within a text frame.\n",
    "- Run: A sequence of characters within a paragraph with consistent formatting.\n",
    "- Font: The formatting properties of a run,"
   ]
  },
  {
   "cell_type": "code",
   "execution_count": 82,
   "id": "8d9ccae7",
   "metadata": {},
   "outputs": [],
   "source": [
    "\n",
    "text_frame = shape.text_frame\n",
    "text_frame.clear()  # not necessary for newly-created shape\n",
    "\n",
    "p = text_frame.paragraphs[0]\n",
    "run = p.add_run()\n",
    "run.text = 'Spam, eggs, and spam'\n",
    "\n",
    "font = run.font\n",
    "font.name = 'Calibri'\n",
    "font.size = Pt(18)\n",
    "font.bold = True\n",
    "font.italic = None  # cause value to be inherited from theme\n",
    "font.color.theme_color = MSO_THEME_COLOR.ACCENT_1"
   ]
  },
  {
   "cell_type": "code",
   "execution_count": 83,
   "id": "abd5715e",
   "metadata": {},
   "outputs": [
    {
     "data": {
      "text/plain": [
       "5"
      ]
     },
     "execution_count": 83,
     "metadata": {},
     "output_type": "execute_result"
    }
   ],
   "source": [
    "font.color.theme_color"
   ]
  },
  {
   "cell_type": "code",
   "execution_count": 89,
   "id": "ded38441",
   "metadata": {},
   "outputs": [],
   "source": [
    "font=run.font"
   ]
  },
  {
   "cell_type": "code",
   "execution_count": 90,
   "id": "8725ce5a",
   "metadata": {},
   "outputs": [
    {
     "name": "stdout",
     "output_type": "stream",
     "text": [
      "Calibri\n"
     ]
    }
   ],
   "source": [
    "print(font.name)"
   ]
  },
  {
   "cell_type": "code",
   "execution_count": 117,
   "id": "fb558f7d",
   "metadata": {},
   "outputs": [
    {
     "ename": "AttributeError",
     "evalue": "'Connector' object has no attribute 'fill'",
     "output_type": "error",
     "traceback": [
      "\u001b[0;31m---------------------------------------------------------------------------\u001b[0m",
      "\u001b[0;31mAttributeError\u001b[0m                            Traceback (most recent call last)",
      "Cell \u001b[0;32mIn[117], line 7\u001b[0m\n\u001b[1;32m      5\u001b[0m \u001b[38;5;28;01mfor\u001b[39;00m shape \u001b[38;5;129;01min\u001b[39;00m slide\u001b[38;5;241m.\u001b[39mshapes:\n\u001b[1;32m      6\u001b[0m     \u001b[38;5;28;01mif\u001b[39;00m \u001b[38;5;129;01mnot\u001b[39;00m shape\u001b[38;5;241m.\u001b[39mhas_text_frame:  \u001b[38;5;66;03m# Exclude text boxes\u001b[39;00m\n\u001b[0;32m----> 7\u001b[0m         color \u001b[38;5;241m=\u001b[39m \u001b[43mshape\u001b[49m\u001b[38;5;241;43m.\u001b[39;49m\u001b[43mfill\u001b[49m\u001b[38;5;241m.\u001b[39mfore_color\u001b[38;5;241m.\u001b[39mrgb\n\u001b[1;32m      8\u001b[0m         \u001b[38;5;28mprint\u001b[39m(\u001b[38;5;124mf\u001b[39m\u001b[38;5;124m\"\u001b[39m\u001b[38;5;124m- \u001b[39m\u001b[38;5;132;01m{\u001b[39;00m\u001b[38;5;28mtype\u001b[39m(shape)\u001b[38;5;241m.\u001b[39m\u001b[38;5;18m__name__\u001b[39m\u001b[38;5;132;01m}\u001b[39;00m\u001b[38;5;124m: \u001b[39m\u001b[38;5;132;01m{\u001b[39;00mcolor\u001b[38;5;132;01m}\u001b[39;00m\u001b[38;5;124m\"\u001b[39m)\n",
      "\u001b[0;31mAttributeError\u001b[0m: 'Connector' object has no attribute 'fill'"
     ]
    }
   ],
   "source": [
    "ppt_file = \"test_case.pptx\"  # Replace with your file path\n",
    "prs = Presentation(ppt_file)\n",
    "\n",
    "for slide in prs.slides:\n",
    "    for shape in slide.shapes:\n",
    "        if not shape.has_text_frame:  # Exclude text boxes\n",
    "            color = shape.fill.fore_color.rgb\n",
    "            print(f\"- {type(shape).__name__}: {color}\")\n",
    "\n",
    "\n"
   ]
  },
  {
   "cell_type": "code",
   "execution_count": 118,
   "id": "19ab8b1d",
   "metadata": {},
   "outputs": [
    {
     "name": "stdout",
     "output_type": "stream",
     "text": [
      "5\n"
     ]
    }
   ],
   "source": [
    "i=0\n",
    "for shape in slide.shapes:\n",
    "    i=i+1\n",
    "    if not shape.has_text_frame:  # Exclude text boxes\n",
    "        print(i)\n"
   ]
  },
  {
   "cell_type": "code",
   "execution_count": 174,
   "id": "c28300d2",
   "metadata": {},
   "outputs": [
    {
     "name": "stdout",
     "output_type": "stream",
     "text": [
      "\n",
      "Slide 1:\n",
      "Shape 1: SlidePlaceholder\n",
      "Shape 2: SlidePlaceholder\n",
      "\n",
      "Slide 2:\n",
      "Shape 1: SlidePlaceholder\n",
      "Shape 2: Shape\n",
      "Shape 3: Shape\n",
      "Shape 4: Shape\n",
      "Shape 5: Connector\n",
      "Shape 6: Shape\n",
      "\n",
      "Slide 3:\n",
      "Shape 1: SlidePlaceholder\n",
      "Shape 2: Shape\n",
      "Shape 3: Shape\n",
      "Shape 4: Shape\n",
      "Shape 5: Connector\n",
      "Shape 6: Shape\n",
      "\n",
      "Slide 4:\n",
      "Shape 1: SlidePlaceholder\n",
      "Shape 2: Shape\n",
      "Shape 3: Shape\n",
      "Shape 4: Shape\n",
      "Shape 5: Connector\n"
     ]
    }
   ],
   "source": [
    "def list_shapes(prs):\n",
    "    \"\"\"Lists slide number, shape number, and shape type for all shapes in a PowerPoint presentation.\"\"\"\n",
    "\n",
    "    for i, slide in enumerate(prs.slides, start=1):\n",
    "        print(f\"\\nSlide {i}:\")\n",
    "        for j, shape in enumerate(slide.shapes, start=1):\n",
    "            shape_type = type(shape).__name__\n",
    "            print(f\"Shape {j}: {shape_type}\")\n",
    "\n",
    "prs = Presentation(\"test_case.pptx\")  # Replactese with your presentation file\n",
    "list_shapes(prs)"
   ]
  },
  {
   "cell_type": "code",
   "execution_count": 192,
   "id": "412bf901",
   "metadata": {},
   "outputs": [
    {
     "ename": "AttributeError",
     "evalue": "module 'pptx.dml.color' has no attribute 'SchemeColor'",
     "output_type": "error",
     "traceback": [
      "\u001b[0;31m---------------------------------------------------------------------------\u001b[0m",
      "\u001b[0;31mAttributeError\u001b[0m                            Traceback (most recent call last)",
      "Cell \u001b[0;32mIn[192], line 1\u001b[0m\n\u001b[0;32m----> 1\u001b[0m \u001b[43mget_rgb_color\u001b[49m\u001b[43m(\u001b[49m\u001b[43mcolor\u001b[49m\u001b[43m)\u001b[49m\n",
      "Cell \u001b[0;32mIn[191], line 4\u001b[0m, in \u001b[0;36mget_rgb_color\u001b[0;34m(color)\u001b[0m\n\u001b[1;32m      3\u001b[0m \u001b[38;5;28;01mdef\u001b[39;00m \u001b[38;5;21mget_rgb_color\u001b[39m(color):\n\u001b[0;32m----> 4\u001b[0m     \u001b[38;5;28;01mif\u001b[39;00m \u001b[38;5;28misinstance\u001b[39m(color, \u001b[43mpptx\u001b[49m\u001b[38;5;241;43m.\u001b[39;49m\u001b[43mdml\u001b[49m\u001b[38;5;241;43m.\u001b[39;49m\u001b[43mcolor\u001b[49m\u001b[38;5;241;43m.\u001b[39;49m\u001b[43mSchemeColor\u001b[49m):\n\u001b[1;32m      5\u001b[0m         \u001b[38;5;66;03m# Assuming you have a reference to the presentation object\u001b[39;00m\n\u001b[1;32m      6\u001b[0m         rgb_color \u001b[38;5;241m=\u001b[39m color\u001b[38;5;241m.\u001b[39mrgb\n\u001b[1;32m      7\u001b[0m     \u001b[38;5;28;01melse\u001b[39;00m:\n",
      "\u001b[0;31mAttributeError\u001b[0m: module 'pptx.dml.color' has no attribute 'SchemeColor'"
     ]
    }
   ],
   "source": [
    "get_rgb_color(color)"
   ]
  },
  {
   "cell_type": "code",
   "execution_count": null,
   "id": "17bcaa6d",
   "metadata": {},
   "outputs": [],
   "source": [
    ">>> from pptx.enum.dml import MSO_THEME_COLOR\n",
    ">>> fill = shape.fill\n",
    ">>> fill.solid()\n",
    ">>> fill.fore_color.theme_color = MSO_THEME_COLOR.ACCENT_1\n",
    ">>> fill.fore_color.brightness = -0.25"
   ]
  },
  {
   "cell_type": "code",
   "execution_count": 194,
   "id": "11430420",
   "metadata": {},
   "outputs": [],
   "source": [
    "from pptx.enum.dml import MSO_THEME_COLOR"
   ]
  },
  {
   "cell_type": "code",
   "execution_count": 8,
   "id": "b094a8c5",
   "metadata": {},
   "outputs": [],
   "source": [
    "fill=prs.slides[2].shapes[5].fill"
   ]
  },
  {
   "cell_type": "code",
   "execution_count": 9,
   "id": "f1eed239",
   "metadata": {},
   "outputs": [],
   "source": [
    "fill.solid()"
   ]
  },
  {
   "cell_type": "code",
   "execution_count": 10,
   "id": "e3a025ed",
   "metadata": {},
   "outputs": [
    {
     "data": {
      "text/plain": [
       "6"
      ]
     },
     "execution_count": 10,
     "metadata": {},
     "output_type": "execute_result"
    }
   ],
   "source": [
    "fill.fore_color.theme_color"
   ]
  },
  {
   "cell_type": "code",
   "execution_count": 7,
   "id": "41efe008",
   "metadata": {},
   "outputs": [
    {
     "data": {
      "text/plain": [
       "<pptx.dml.color.ColorFormat at 0x12c0d1210>"
      ]
     },
     "execution_count": 7,
     "metadata": {},
     "output_type": "execute_result"
    }
   ],
   "source": [
    "prs.slides[2].shapes[5].fill.fore_color"
   ]
  },
  {
   "cell_type": "code",
   "execution_count": 5,
   "id": "f0bf407d",
   "metadata": {},
   "outputs": [
    {
     "data": {
      "text/plain": [
       "<pptx.dml.color.ColorFormat at 0x12c0a6d10>"
      ]
     },
     "execution_count": 5,
     "metadata": {},
     "output_type": "execute_result"
    }
   ],
   "source": [
    "prs.slides[2].shapes[5].fill.fore_color"
   ]
  },
  {
   "cell_type": "code",
   "execution_count": 169,
   "id": "ed778662",
   "metadata": {},
   "outputs": [
    {
     "data": {
      "text/plain": [
       "<pptx.dml.color.ColorFormat at 0x1296ed190>"
      ]
     },
     "execution_count": 169,
     "metadata": {},
     "output_type": "execute_result"
    }
   ],
   "source": [
    "prs.slides[1].shapes[5].fill.fore_color"
   ]
  },
  {
   "cell_type": "code",
   "execution_count": 172,
   "id": "56b71f74",
   "metadata": {},
   "outputs": [
    {
     "data": {
      "text/plain": [
       "<pptx.dml.color.ColorFormat at 0x1296efd10>"
      ]
     },
     "execution_count": 172,
     "metadata": {},
     "output_type": "execute_result"
    }
   ],
   "source": [
    "prs.slides[1].shapes[5].fill.fore_color"
   ]
  },
  {
   "cell_type": "code",
   "execution_count": 157,
   "id": "3e6a0625",
   "metadata": {},
   "outputs": [
    {
     "ename": "TypeError",
     "evalue": "fill type _NoneFill has no foreground color, call .solid() or .patterned() first",
     "output_type": "error",
     "traceback": [
      "\u001b[0;31m---------------------------------------------------------------------------\u001b[0m",
      "\u001b[0;31mTypeError\u001b[0m                                 Traceback (most recent call last)",
      "Cell \u001b[0;32mIn[157], line 1\u001b[0m\n\u001b[0;32m----> 1\u001b[0m \u001b[43mprs\u001b[49m\u001b[38;5;241;43m.\u001b[39;49m\u001b[43mslides\u001b[49m\u001b[43m[\u001b[49m\u001b[38;5;241;43m1\u001b[39;49m\u001b[43m]\u001b[49m\u001b[38;5;241;43m.\u001b[39;49m\u001b[43mshapes\u001b[49m\u001b[43m[\u001b[49m\u001b[38;5;241;43m5\u001b[39;49m\u001b[43m]\u001b[49m\u001b[38;5;241;43m.\u001b[39;49m\u001b[43mfill\u001b[49m\u001b[38;5;241;43m.\u001b[39;49m\u001b[43mfore_color\u001b[49m\n",
      "File \u001b[0;32m~/opt/anaconda3/envs/Eram_env/lib/python3.11/site-packages/pptx/dml/fill.py:66\u001b[0m, in \u001b[0;36mFillFormat.fore_color\u001b[0;34m(self)\u001b[0m\n\u001b[1;32m     60\u001b[0m \u001b[38;5;129m@property\u001b[39m\n\u001b[1;32m     61\u001b[0m \u001b[38;5;28;01mdef\u001b[39;00m \u001b[38;5;21mfore_color\u001b[39m(\u001b[38;5;28mself\u001b[39m):\n\u001b[1;32m     62\u001b[0m \u001b[38;5;250m    \u001b[39m\u001b[38;5;124;03m\"\"\"\u001b[39;00m\n\u001b[1;32m     63\u001b[0m \u001b[38;5;124;03m    Return a |ColorFormat| instance representing the foreground color of\u001b[39;00m\n\u001b[1;32m     64\u001b[0m \u001b[38;5;124;03m    this fill.\u001b[39;00m\n\u001b[1;32m     65\u001b[0m \u001b[38;5;124;03m    \"\"\"\u001b[39;00m\n\u001b[0;32m---> 66\u001b[0m     \u001b[38;5;28;01mreturn\u001b[39;00m \u001b[38;5;28;43mself\u001b[39;49m\u001b[38;5;241;43m.\u001b[39;49m\u001b[43m_fill\u001b[49m\u001b[38;5;241;43m.\u001b[39;49m\u001b[43mfore_color\u001b[49m\n",
      "File \u001b[0;32m~/opt/anaconda3/envs/Eram_env/lib/python3.11/site-packages/pptx/dml/fill.py:201\u001b[0m, in \u001b[0;36m_Fill.fore_color\u001b[0;34m(self)\u001b[0m\n\u001b[1;32m    196\u001b[0m \u001b[38;5;250m\u001b[39m\u001b[38;5;124;03m\"\"\"Raise TypeError for types that do not override this property.\"\"\"\u001b[39;00m\n\u001b[1;32m    197\u001b[0m tmpl \u001b[38;5;241m=\u001b[39m (\n\u001b[1;32m    198\u001b[0m     \u001b[38;5;124m\"\u001b[39m\u001b[38;5;124mfill type \u001b[39m\u001b[38;5;132;01m%s\u001b[39;00m\u001b[38;5;124m has no foreground color, call .solid() or .pattern\u001b[39m\u001b[38;5;124m\"\u001b[39m\n\u001b[1;32m    199\u001b[0m     \u001b[38;5;124m\"\u001b[39m\u001b[38;5;124med() first\u001b[39m\u001b[38;5;124m\"\u001b[39m\n\u001b[1;32m    200\u001b[0m )\n\u001b[0;32m--> 201\u001b[0m \u001b[38;5;28;01mraise\u001b[39;00m \u001b[38;5;167;01mTypeError\u001b[39;00m(tmpl \u001b[38;5;241m%\u001b[39m \u001b[38;5;28mself\u001b[39m\u001b[38;5;241m.\u001b[39m\u001b[38;5;18m__class__\u001b[39m\u001b[38;5;241m.\u001b[39m\u001b[38;5;18m__name__\u001b[39m)\n",
      "\u001b[0;31mTypeError\u001b[0m: fill type _NoneFill has no foreground color, call .solid() or .patterned() first"
     ]
    }
   ],
   "source": [
    "prs.slides[1].shapes[5].fill.fore_color"
   ]
  },
  {
   "cell_type": "code",
   "execution_count": 4,
   "id": "40684d19",
   "metadata": {},
   "outputs": [
    {
     "name": "stdout",
     "output_type": "stream",
     "text": [
      "Slide 2: Text: Intelligent Interface for Query Management, Color: FF0000\n",
      "Slide 2: Text: Current Challenges:, Color: FF0000\n",
      "Slide 2: Text: Slow response times to data queries, Color: None\n",
      "Slide 2: Text: Inconsistent data interpretation, Color: None\n",
      "Slide 2: Text: Inefficient knowledge transfer, Color: None\n",
      "Slide 2: Text: High dependency on data experts, Color: None\n",
      "Slide 2: Text: Solution Impact:, Color: None\n",
      "Slide 2: Text: Accelerated data access and insights, Color: None\n",
      "Slide 2: Text: Improved data literacy among employees, Color: None\n",
      "Slide 2: Text: Enhanced collaboration and knowledge sharing, Color: None\n",
      "Slide 2: Text: Reduced burden on data teams, Color: None\n",
      "Slide 2: Text: Solution Overview:, Color: None\n",
      "Slide 2: Text: Develop a natural language processing (NLP)-powered chatbot, Color: None\n",
      "Slide 2: Text: Integrate chatbot with internal data sources (databases, spreadsheets, etc.), Color: None\n",
      "Slide 2: Text: Provide intuitive interface for users to ask questions and get answers, Color: None\n",
      "Slide 2: Text: Continuously learn and improve based on user interactions, Color: None\n",
      "Slide 3: Text: Information Extraction from Annual Reports, Color: None\n",
      "Slide 3: Text: Current Challenges:, Color: None\n",
      "Slide 3: Text: Pulling data from annual reports is a real pain. It's manual, time-consuming, and easy to make mistakes., Color: None\n",
      "Slide 3: Text: Everyone reads between the lines differently, so it's hard to agree on what the numbers really mean., Color: None\n",
      "Slide 3: Text: Solution Impact:, Color: None\n",
      "Slide 3: Text: We can pull those numbers out super fast and accurate., Color: None\n",
      "Slide 3: Text: We'll be the first to know what's really going on with our finances., Color: None\n",
      "Slide 3: Text: Better data means better decisions – no more guessing games!, Color: None\n",
      "Slide 3: Text: Solution Overview:, Color: None\n",
      "Slide 3: Text: Teach computers to read between the lines and find the important stuff., Color: None\n",
      "Slide 3: Text: Turn messy report data into clean, easy-to-understand numbers., Color: None\n",
      "Slide 3: Text: Plug those numbers into our fancy reporting tools., Color: None\n",
      "Slide 4: Text: Predictive Investment Tool, Color: None\n",
      "Slide 4: Text: Current Challenges:, Color: None\n",
      "Slide 4: Text: Reliance on manual analysis of market trends and economic indicators., Color: None\n",
      "Slide 4: Text: Subjective investment decisions based on limited data and , Color: None\n",
      "Slide 4: Text: expertise.Delayed, Color: None\n",
      "Slide 4: Text:  response to market fluctuations., Color: None\n",
      "Slide 4: Text: Solution Impact:, Color: None\n",
      "Slide 4: Text: Accelerated identification of investment opportunities and risks., Color: None\n",
      "Slide 4: Text: Data-driven investment decisions with reduced human bias., Color: None\n",
      "Slide 4: Text: Optimized portfolio performance through predictive analytics. Enhanced risk management capabilities., Color: None\n",
      "Slide 4: Text: Solution Overview:, Color: None\n",
      "Slide 4: Text: Develop a sophisticated machine learning model capable of , Color: None\n",
      "Slide 4: Text: analyzing, Color: None\n",
      "Slide 4: Text:  vast , Color: None\n",
      "Slide 4: Text: datasets.Incorporate, Color: None\n",
      "Slide 4: Text:  diverse data sources including financial news, economic indicators, and historical market data., Color: None\n",
      "Slide 4: Text: Generate predictive insights on market trends, asset performance, and investment , Color: None\n",
      "Slide 4: Text: outcomes.Provide, Color: None\n",
      "Slide 4: Text:  actionable recommendations for portfolio adjustments., Color: None\n"
     ]
    }
   ],
   "source": [
    "presentation_file = \"test_case.pptx\"\n",
    "\n",
    "\n",
    "prs = Presentation(presentation_file)\n",
    "text_with_color = []\n",
    "\n",
    "for i, slide in enumerate(prs.slides, start=1):\n",
    "    for shape in slide.shapes:\n",
    "        if not shape.has_text_frame:\n",
    "            continue\n",
    "        text_frame = shape.text_frame\n",
    "        for paragraph in text_frame.paragraphs:\n",
    "            for run in paragraph.runs:\n",
    "                text = run.text\n",
    "                try:\n",
    "                    color = run.font.color.rgb\n",
    "                except:\n",
    "                    color=None\n",
    "                text_with_color.append((i, text, color))\n",
    "\n",
    "\n",
    "for slide_num, text, color in text_with_color:\n",
    "    print(f\"Slide {slide_num}: Text: {text}, Color: {color}\")\n"
   ]
  },
  {
   "cell_type": "code",
   "execution_count": null,
   "id": "49876b0c",
   "metadata": {},
   "outputs": [],
   "source": [
    "#check if hsbc logo is present"
   ]
  }
 ],
 "metadata": {
  "kernelspec": {
   "display_name": "Eram_env",
   "language": "python",
   "name": "eram_env"
  },
  "language_info": {
   "codemirror_mode": {
    "name": "ipython",
    "version": 3
   },
   "file_extension": ".py",
   "mimetype": "text/x-python",
   "name": "python",
   "nbconvert_exporter": "python",
   "pygments_lexer": "ipython3",
   "version": "3.11.9"
  }
 },
 "nbformat": 4,
 "nbformat_minor": 5
}
