{
 "cells": [
  {
   "cell_type": "code",
   "execution_count": null,
   "id": "5892db08",
   "metadata": {},
   "outputs": [],
   "source": [
    "#Read presentation\n",
    "#Identify font\n",
    "#colors used in presentation\n",
    "#logo used in presentation"
   ]
  },
  {
   "cell_type": "code",
   "execution_count": 187,
   "id": "247900ec",
   "metadata": {},
   "outputs": [],
   "source": [
    "#Load required libraries\n",
    "\n",
    "import pptx \n",
    "from pptx.dml.color import RGBColor\n",
    "from pptx.enum.dml import MSO_THEME_COLOR\n",
    "from pptx.util import Pt\n",
    "import numpy as np\n",
    "import cv2"
   ]
  },
  {
   "cell_type": "markdown",
   "id": "f1da685f",
   "metadata": {},
   "source": [
    "Objects Nomenclature:\n",
    "- Presentation: The overall PowerPoint file.\n",
    "- Slide: A single slide within the presentation.\n",
    "- Shape: An object on a slide, which can be a text box, image, shape, etc.\n",
    "- TextFrame: The container for text within a shape.\n",
    "- Paragraph: A block of text within a text frame.\n",
    "- Run: A sequence of characters within a paragraph with consistent formatting.\n",
    "- Font: The formatting properties of a run,"
   ]
  },
  {
   "cell_type": "code",
   "execution_count": 174,
   "id": "c28300d2",
   "metadata": {},
   "outputs": [
    {
     "name": "stdout",
     "output_type": "stream",
     "text": [
      "\n",
      "Slide 1:\n",
      "Shape 1: SlidePlaceholder\n",
      "Shape 2: SlidePlaceholder\n",
      "\n",
      "Slide 2:\n",
      "Shape 1: SlidePlaceholder\n",
      "Shape 2: Shape\n",
      "Shape 3: Shape\n",
      "Shape 4: Shape\n",
      "Shape 5: Connector\n",
      "Shape 6: Shape\n",
      "\n",
      "Slide 3:\n",
      "Shape 1: SlidePlaceholder\n",
      "Shape 2: Shape\n",
      "Shape 3: Shape\n",
      "Shape 4: Shape\n",
      "Shape 5: Connector\n",
      "Shape 6: Shape\n",
      "\n",
      "Slide 4:\n",
      "Shape 1: SlidePlaceholder\n",
      "Shape 2: Shape\n",
      "Shape 3: Shape\n",
      "Shape 4: Shape\n",
      "Shape 5: Connector\n"
     ]
    }
   ],
   "source": [
    "def list_shapes(prs):\n",
    "    \"\"\"Lists slide number, shape number, and shape type for all shapes in a PowerPoint presentation.\"\"\"\n",
    "\n",
    "    for i, slide in enumerate(prs.slides, start=1):\n",
    "        print(f\"\\nSlide {i}:\")\n",
    "        for j, shape in enumerate(slide.shapes, start=1):\n",
    "            shape_type = type(shape).__name__\n",
    "            print(f\"Shape {j}: {shape_type}\")\n",
    "\n",
    "prs = Presentation(\"test_case.pptx\")  # Replactese with your presentation file\n",
    "list_shapes(prs)"
   ]
  },
  {
   "cell_type": "code",
   "execution_count": 8,
   "id": "b094a8c5",
   "metadata": {},
   "outputs": [],
   "source": [
    "fill=prs.slides[2].shapes[5].fill"
   ]
  },
  {
   "cell_type": "code",
   "execution_count": 9,
   "id": "f1eed239",
   "metadata": {},
   "outputs": [],
   "source": [
    "fill.solid()"
   ]
  },
  {
   "cell_type": "code",
   "execution_count": 10,
   "id": "e3a025ed",
   "metadata": {},
   "outputs": [
    {
     "data": {
      "text/plain": [
       "6"
      ]
     },
     "execution_count": 10,
     "metadata": {},
     "output_type": "execute_result"
    }
   ],
   "source": [
    "fill.fore_color.theme_color"
   ]
  },
  {
   "cell_type": "code",
   "execution_count": 7,
   "id": "41efe008",
   "metadata": {},
   "outputs": [
    {
     "data": {
      "text/plain": [
       "<pptx.dml.color.ColorFormat at 0x12c0d1210>"
      ]
     },
     "execution_count": 7,
     "metadata": {},
     "output_type": "execute_result"
    }
   ],
   "source": [
    "prs.slides[2].shapes[5].fill.fore_color"
   ]
  },
  {
   "cell_type": "code",
   "execution_count": 5,
   "id": "f0bf407d",
   "metadata": {},
   "outputs": [
    {
     "data": {
      "text/plain": [
       "<pptx.dml.color.ColorFormat at 0x12c0a6d10>"
      ]
     },
     "execution_count": 5,
     "metadata": {},
     "output_type": "execute_result"
    }
   ],
   "source": [
    "prs.slides[2].shapes[5].fill.fore_color"
   ]
  },
  {
   "cell_type": "code",
   "execution_count": 169,
   "id": "ed778662",
   "metadata": {},
   "outputs": [
    {
     "data": {
      "text/plain": [
       "<pptx.dml.color.ColorFormat at 0x1296ed190>"
      ]
     },
     "execution_count": 169,
     "metadata": {},
     "output_type": "execute_result"
    }
   ],
   "source": [
    "prs.slides[1].shapes[5].fill.fore_color"
   ]
  },
  {
   "cell_type": "code",
   "execution_count": 172,
   "id": "56b71f74",
   "metadata": {},
   "outputs": [
    {
     "data": {
      "text/plain": [
       "<pptx.dml.color.ColorFormat at 0x1296efd10>"
      ]
     },
     "execution_count": 172,
     "metadata": {},
     "output_type": "execute_result"
    }
   ],
   "source": [
    "prs.slides[1].shapes[5].fill.fore_color"
   ]
  },
  {
   "cell_type": "code",
   "execution_count": 4,
   "id": "40684d19",
   "metadata": {},
   "outputs": [
    {
     "name": "stdout",
     "output_type": "stream",
     "text": [
      "Slide 2: Text: Intelligent Interface for Query Management, Color: FF0000\n",
      "Slide 2: Text: Current Challenges:, Color: FF0000\n",
      "Slide 2: Text: Slow response times to data queries, Color: None\n",
      "Slide 2: Text: Inconsistent data interpretation, Color: None\n",
      "Slide 2: Text: Inefficient knowledge transfer, Color: None\n",
      "Slide 2: Text: High dependency on data experts, Color: None\n",
      "Slide 2: Text: Solution Impact:, Color: None\n",
      "Slide 2: Text: Accelerated data access and insights, Color: None\n",
      "Slide 2: Text: Improved data literacy among employees, Color: None\n",
      "Slide 2: Text: Enhanced collaboration and knowledge sharing, Color: None\n",
      "Slide 2: Text: Reduced burden on data teams, Color: None\n",
      "Slide 2: Text: Solution Overview:, Color: None\n",
      "Slide 2: Text: Develop a natural language processing (NLP)-powered chatbot, Color: None\n",
      "Slide 2: Text: Integrate chatbot with internal data sources (databases, spreadsheets, etc.), Color: None\n",
      "Slide 2: Text: Provide intuitive interface for users to ask questions and get answers, Color: None\n",
      "Slide 2: Text: Continuously learn and improve based on user interactions, Color: None\n",
      "Slide 3: Text: Information Extraction from Annual Reports, Color: None\n",
      "Slide 3: Text: Current Challenges:, Color: None\n",
      "Slide 3: Text: Pulling data from annual reports is a real pain. It's manual, time-consuming, and easy to make mistakes., Color: None\n",
      "Slide 3: Text: Everyone reads between the lines differently, so it's hard to agree on what the numbers really mean., Color: None\n",
      "Slide 3: Text: Solution Impact:, Color: None\n",
      "Slide 3: Text: We can pull those numbers out super fast and accurate., Color: None\n",
      "Slide 3: Text: We'll be the first to know what's really going on with our finances., Color: None\n",
      "Slide 3: Text: Better data means better decisions – no more guessing games!, Color: None\n",
      "Slide 3: Text: Solution Overview:, Color: None\n",
      "Slide 3: Text: Teach computers to read between the lines and find the important stuff., Color: None\n",
      "Slide 3: Text: Turn messy report data into clean, easy-to-understand numbers., Color: None\n",
      "Slide 3: Text: Plug those numbers into our fancy reporting tools., Color: None\n",
      "Slide 4: Text: Predictive Investment Tool, Color: None\n",
      "Slide 4: Text: Current Challenges:, Color: None\n",
      "Slide 4: Text: Reliance on manual analysis of market trends and economic indicators., Color: None\n",
      "Slide 4: Text: Subjective investment decisions based on limited data and , Color: None\n",
      "Slide 4: Text: expertise.Delayed, Color: None\n",
      "Slide 4: Text:  response to market fluctuations., Color: None\n",
      "Slide 4: Text: Solution Impact:, Color: None\n",
      "Slide 4: Text: Accelerated identification of investment opportunities and risks., Color: None\n",
      "Slide 4: Text: Data-driven investment decisions with reduced human bias., Color: None\n",
      "Slide 4: Text: Optimized portfolio performance through predictive analytics. Enhanced risk management capabilities., Color: None\n",
      "Slide 4: Text: Solution Overview:, Color: None\n",
      "Slide 4: Text: Develop a sophisticated machine learning model capable of , Color: None\n",
      "Slide 4: Text: analyzing, Color: None\n",
      "Slide 4: Text:  vast , Color: None\n",
      "Slide 4: Text: datasets.Incorporate, Color: None\n",
      "Slide 4: Text:  diverse data sources including financial news, economic indicators, and historical market data., Color: None\n",
      "Slide 4: Text: Generate predictive insights on market trends, asset performance, and investment , Color: None\n",
      "Slide 4: Text: outcomes.Provide, Color: None\n",
      "Slide 4: Text:  actionable recommendations for portfolio adjustments., Color: None\n"
     ]
    }
   ],
   "source": [
    "presentation_file = \"test_case.pptx\"\n",
    "\n",
    "\n",
    "prs = Presentation(presentation_file)\n",
    "text_with_color = []\n",
    "\n",
    "for i, slide in enumerate(prs.slides, start=1):\n",
    "    for shape in slide.shapes:\n",
    "        if not shape.has_text_frame:\n",
    "            continue\n",
    "        text_frame = shape.text_frame\n",
    "        for paragraph in text_frame.paragraphs:\n",
    "            for run in paragraph.runs:\n",
    "                text = run.text\n",
    "                try:\n",
    "                    color = run.font.color.rgb\n",
    "                except:\n",
    "                    color=None\n",
    "                text_with_color.append((i, text, color))\n",
    "\n",
    "\n",
    "for slide_num, text, color in text_with_color:\n",
    "    print(f\"Slide {slide_num}: Text: {text}, Color: {color}\")\n"
   ]
  },
  {
   "cell_type": "code",
   "execution_count": null,
   "id": "49876b0c",
   "metadata": {},
   "outputs": [],
   "source": [
    "#check if hsbc logo is present"
   ]
  },
  {
   "cell_type": "code",
   "execution_count": 14,
   "id": "a337f06d",
   "metadata": {},
   "outputs": [],
   "source": [
    "import pptx\n",
    "import cv2\n",
    "import numpy as np\n",
    "from skimage.feature import match_template\n",
    "from PIL import Image\n"
   ]
  },
  {
   "cell_type": "code",
   "execution_count": 20,
   "id": "2ffea83a",
   "metadata": {},
   "outputs": [],
   "source": [
    "from pptx import Presentation\n",
    "\n",
    "from pptx import Presentation\n",
    "\n",
    "def extract_images_from_ppt(ppt_file):\n",
    "  prs = Presentation(ppt_file)\n",
    "  images = []\n",
    "  for slide in prs.slides:\n",
    "    for shape in slide.shapes:\n",
    "      if shape.shape_type == pptx.shapes.ShapeType.PICTURE:\n",
    "        pic = shape.picture\n",
    "        img_data = pic.image_data\n",
    "        images.append(img_data)\n",
    "  return images\n",
    "\n"
   ]
  },
  {
   "cell_type": "code",
   "execution_count": null,
   "id": "978518a9",
   "metadata": {},
   "outputs": [],
   "source": [
    "from pptx import Presentation\n",
    "from pptx.enum.shapes import MSO_SHAPE_TYPE\n",
    "\n",
    "def iter_picture_shapes(prs):\n",
    "    for slide in prs.slides:\n",
    "        for shape in slide.shapes:\n",
    "            if shape.shape_type == MSO_SHAPE_TYPE.PICTURE:\n",
    "                yield shape\n",
    "\n",
    "for picture in iter_picture_shapes(Presentation(filename)):\n",
    "    image = picture.image\n",
    "    # ---get image \"file\" contents---\n",
    "    image_bytes = image.blob\n",
    "    # ---make up a name for the file, e.g. 'image.jpg'---\n",
    "    image_filename = 'image.%s' % image.ext\n",
    "    with open(image_filename, 'wb') as f:\n",
    "        f.write(image_bytes)"
   ]
  },
  {
   "cell_type": "code",
   "execution_count": 25,
   "id": "61149cc4",
   "metadata": {},
   "outputs": [],
   "source": [
    "from pptx.enum.shapes import MSO_SHAPE_TYPE\n"
   ]
  },
  {
   "cell_type": "code",
   "execution_count": 31,
   "id": "9aeebb93",
   "metadata": {},
   "outputs": [],
   "source": [
    "\n",
    "def extract_images_from_ppt(ppt_file):\n",
    "    prs = Presentation(ppt_file)\n",
    "    images = []\n",
    "    for slide in prs.slides:\n",
    "        for shape in slide.shapes:\n",
    "            if shape.shape_type == MSO_SHAPE_TYPE.PICTURE:\n",
    "                pic = shape\n",
    "                img_data = pic.open(io.BytesIO(image_data))\n",
    "                img_array = np.array(img)\n",
    "                images.append(img_array)\n",
    "    return images\n",
    "\n",
    "def convert_to_vector(image_data):\n",
    "\n",
    "  # Convert image data to a NumPy array\n",
    "    img = Image.open(io.BytesIO(image_data))\n",
    "    img_array = np.array(img)\n",
    "\n",
    "    # Basic edge detection for vectorization (replace with more sophisticated methods)\n",
    "    edges = cv2.Canny(img_array, 100, 200)\n",
    "\n",
    "  # Convert edges to a vector format (replace with appropriate vectorization technique)\n",
    "  # For simplicity, we'll use contours here\n",
    "    contours, _ = cv2.findContours(edges, cv2.RETR_EXTERNAL, cv2.CHAIN_APPROX_SIMPLE)\n",
    "\n",
    "  # Convert contours to a vector representation\n",
    "    vector_image = np.vstack(contours).flatten()\n",
    "\n",
    "    return vector_image\n",
    "\n",
    "def compare_images(vector_image, sample_image):\n",
    "\n",
    "  # Reshape images for template matching\n",
    "    vector_image = vector_image.reshape((1, -1))\n",
    "    sample_image = sample_image.reshape((1, -1))\n",
    "\n",
    "  # Calculate correlation coefficient\n",
    "    corr = np.corrcoef(vector_image, sample_image)[0, 1]\n",
    "    return corr"
   ]
  },
  {
   "cell_type": "code",
   "execution_count": 29,
   "id": "df6f8231",
   "metadata": {},
   "outputs": [],
   "source": [
    "# Example usage\n",
    "ppt_file = \"test_case.pptx\"\n",
    "sample_image_path = \"hsbc_logo.jpg\"\n"
   ]
  },
  {
   "cell_type": "code",
   "execution_count": 32,
   "id": "4d5f4a59",
   "metadata": {
    "scrolled": true
   },
   "outputs": [
    {
     "ename": "AttributeError",
     "evalue": "'Picture' object has no attribute 'open'",
     "output_type": "error",
     "traceback": [
      "\u001b[0;31m---------------------------------------------------------------------------\u001b[0m",
      "\u001b[0;31mAttributeError\u001b[0m                            Traceback (most recent call last)",
      "Cell \u001b[0;32mIn[32], line 2\u001b[0m\n\u001b[1;32m      1\u001b[0m \u001b[38;5;66;03m# Extract images from PPT\u001b[39;00m\n\u001b[0;32m----> 2\u001b[0m images \u001b[38;5;241m=\u001b[39m \u001b[43mextract_images_from_ppt\u001b[49m\u001b[43m(\u001b[49m\u001b[43mppt_file\u001b[49m\u001b[43m)\u001b[49m\n\u001b[1;32m      4\u001b[0m \u001b[38;5;66;03m# Load sample image\u001b[39;00m\n\u001b[1;32m      5\u001b[0m sample_image \u001b[38;5;241m=\u001b[39m cv2\u001b[38;5;241m.\u001b[39mimread(sample_image_path)\n",
      "Cell \u001b[0;32mIn[31], line 8\u001b[0m, in \u001b[0;36mextract_images_from_ppt\u001b[0;34m(ppt_file)\u001b[0m\n\u001b[1;32m      6\u001b[0m \u001b[38;5;28;01mif\u001b[39;00m shape\u001b[38;5;241m.\u001b[39mshape_type \u001b[38;5;241m==\u001b[39m MSO_SHAPE_TYPE\u001b[38;5;241m.\u001b[39mPICTURE:\n\u001b[1;32m      7\u001b[0m     pic \u001b[38;5;241m=\u001b[39m shape\n\u001b[0;32m----> 8\u001b[0m     img_data \u001b[38;5;241m=\u001b[39m \u001b[43mpic\u001b[49m\u001b[38;5;241;43m.\u001b[39;49m\u001b[43mopen\u001b[49m(io\u001b[38;5;241m.\u001b[39mBytesIO(image_data))\n\u001b[1;32m      9\u001b[0m     img_array \u001b[38;5;241m=\u001b[39m np\u001b[38;5;241m.\u001b[39marray(img)\n\u001b[1;32m     10\u001b[0m     images\u001b[38;5;241m.\u001b[39mappend(img_array)\n",
      "\u001b[0;31mAttributeError\u001b[0m: 'Picture' object has no attribute 'open'"
     ]
    }
   ],
   "source": [
    "# Extract images from PPT\n",
    "images = extract_images_from_ppt(ppt_file)\n",
    "\n",
    "# Load sample image\n",
    "sample_image = cv2.imread(sample_image_path)\n",
    "\n",
    "# Convert sample image to vector\n",
    "sample_vector = convert_to_vector(sample_image)\n",
    "\n",
    "# Compare each extracted image with the sample image\n",
    "for img_data in images:\n",
    "    vector_image = convert_to_vector(img_data)\n",
    "    similarity = compare_images(vector_image, sample_vector)\n",
    "    print(\"Similarity:\", similarity)"
   ]
  },
  {
   "cell_type": "code",
   "execution_count": 53,
   "id": "22bdeedb",
   "metadata": {},
   "outputs": [],
   "source": [
    "\n",
    "\n",
    "def compare_images(img1_path, img2_path):\n",
    "  # Load images\n",
    "    img1 = cv2.imread(img1_path)\n",
    "    img2 = cv2.imread(img2_path)\n",
    "\n",
    "  # Convert to grayscale\n",
    "    gray1 = cv2.cvtColor(img1, cv2.COLOR_BGR2GRAY)\n",
    "    gray2 = cv2.cvtColor(img2, cv2.COLOR_BGR2GRAY)\n",
    "\n",
    "  # Calculate histograms (simple feature example)\n",
    "    hist1 = cv2.calcHist([gray1], [0], None, [256], [0, 256])\n",
    "    hist2 = cv2.calcHist([gray2], [0], None, [256], [0, 256])\n",
    "\n",
    "  # Normalize histograms\n",
    "    cv2.normalize(hist1, hist1, 0, 1, cv2.NORM_MINMAX)\n",
    "    cv2.normalize(hist2, hist2, 0, 1, cv2.NORM_MINMAX)\n",
    "\n",
    "  # Calculate correlation coefficient as similarity measure\n",
    "    similarity = cv2.compareHist(hist1, hist2, cv2.HISTCMP_CORREL)\n",
    "\n",
    "    return similarity\n"
   ]
  },
  {
   "cell_type": "code",
   "execution_count": 51,
   "id": "11108345",
   "metadata": {},
   "outputs": [
    {
     "data": {
      "text/plain": [
       "0.9967942878950179"
      ]
     },
     "execution_count": 51,
     "metadata": {},
     "output_type": "execute_result"
    }
   ],
   "source": [
    "compare_images('image.jpg', 'hsbc_logo.jpg')"
   ]
  },
  {
   "cell_type": "code",
   "execution_count": 47,
   "id": "774e1a2d",
   "metadata": {},
   "outputs": [],
   "source": [
    "def compare_images(vector_image, sample_image):\n",
    "\n",
    "  # Reshape images for template matching\n",
    "    vector_image = vector_image.reshape((1, -1))\n",
    "    sample_image = sample_image.reshape((1, -1))\n",
    "\n",
    "  # Calculate correlation coefficient\n",
    "    corr = np.corrcoef(vector_image, sample_image)[0, 1]\n",
    "    return corr"
   ]
  },
  {
   "cell_type": "code",
   "execution_count": 54,
   "id": "73a78fcc",
   "metadata": {},
   "outputs": [
    {
     "name": "stdout",
     "output_type": "stream",
     "text": [
      "0.9967942878950179\n",
      "0.9967942878950179\n",
      "0.02438582860679698\n"
     ]
    }
   ],
   "source": [
    "\n",
    "prs = Presentation(ppt_file)\n",
    "images = []\n",
    "for slide in prs.slides:\n",
    "    for shape in slide.shapes:\n",
    "        if shape.shape_type == MSO_SHAPE_TYPE.PICTURE:\n",
    "            image = shape.image\n",
    "            # ---get image \"file\" contents---\n",
    "            image_bytes = image.blob\n",
    "            # ---make up a name for the file, e.g. 'image.jpg'---\n",
    "            image_filename = 'image.%s' % image.ext\n",
    "            with open(image_filename, 'wb') as f:\n",
    "                f.write(image_bytes)\n",
    "            corr=compare_images('image.jpg', 'hsbc_logo.jpg')    \n",
    "            print(corr)"
   ]
  },
  {
   "cell_type": "code",
   "execution_count": 34,
   "id": "b365b0bb",
   "metadata": {},
   "outputs": [
    {
     "ename": "AttributeError",
     "evalue": "'Picture' object has no attribute 'get_image'",
     "output_type": "error",
     "traceback": [
      "\u001b[0;31m---------------------------------------------------------------------------\u001b[0m",
      "\u001b[0;31mAttributeError\u001b[0m                            Traceback (most recent call last)",
      "Cell \u001b[0;32mIn[34], line 1\u001b[0m\n\u001b[0;32m----> 1\u001b[0m \u001b[43mpic\u001b[49m\u001b[38;5;241;43m.\u001b[39;49m\u001b[43mget_image\u001b[49m()\n",
      "\u001b[0;31mAttributeError\u001b[0m: 'Picture' object has no attribute 'get_image'"
     ]
    }
   ],
   "source": [
    "pic.get_image()"
   ]
  },
  {
   "cell_type": "code",
   "execution_count": 40,
   "id": "a3b0e9b0",
   "metadata": {},
   "outputs": [],
   "source": [
    "import io"
   ]
  }
 ],
 "metadata": {
  "kernelspec": {
   "display_name": "Eram_env",
   "language": "python",
   "name": "eram_env"
  },
  "language_info": {
   "codemirror_mode": {
    "name": "ipython",
    "version": 3
   },
   "file_extension": ".py",
   "mimetype": "text/x-python",
   "name": "python",
   "nbconvert_exporter": "python",
   "pygments_lexer": "ipython3",
   "version": "3.11.9"
  }
 },
 "nbformat": 4,
 "nbformat_minor": 5
}
